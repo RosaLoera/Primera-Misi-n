{
 "cells": [
  {
   "cell_type": "markdown",
   "metadata": {},
   "source": [
    "## Crear y usar listas en python"
   ]
  },
  {
   "cell_type": "code",
   "execution_count": 11,
   "metadata": {},
   "outputs": [
    {
     "name": "stdout",
     "output_type": "stream",
     "text": [
      "Hay 9 en el sistema solar\n",
      "Plutón es el último planeta\n"
     ]
    }
   ],
   "source": [
    "planets = ['Mercurio', 'Venus', 'Tierra', 'Marte', 'Júpiter', 'Saturno', 'Urano', 'Neptuno']\n",
    "\n",
    "#print('Hay', len(planets), 'planetas en el sistema solar')\n",
    "planets.append('Plutón')\n",
    "print('Hay', len(planets),'en el sistema solar')\n",
    "print(planets[-1], 'es el último planeta')"
   ]
  },
  {
   "cell_type": "markdown",
   "metadata": {},
   "source": [
    "## Trabajando con datos de una lista"
   ]
  },
  {
   "cell_type": "code",
   "execution_count": 14,
   "metadata": {},
   "outputs": [
    {
     "name": "stdout",
     "output_type": "stream",
     "text": [
      "Los planetas más cercanos que Marte son: \n",
      "['Mercurio', 'Venus', 'Tierra']\n",
      "Los planetas más alejados que Marte son: \n",
      "['Júpiter', 'Saturno', 'Urano']\n"
     ]
    }
   ],
   "source": [
    "planets = ['Mercurio', 'Venus', 'Tierra', 'Marte', 'Júpiter', 'Saturno', 'Urano', 'Neptuno']\n",
    "planeta_ingresado = input('Ingrese el nombre de un planeta. Recuerde escribir la primera letra mayúscula: ')\n",
    "planeta_index = planets.index(planeta_ingresado)\n",
    "\n",
    "print('Los planetas más cercanos que', planeta_ingresado, 'son: ')\n",
    "print(planets[0:planeta_index])\n",
    "\n",
    "print('Los planetas más alejados que', planeta_ingresado, 'son: ')\n",
    "print(planets[(planeta_index+1):-1])"
   ]
  }
 ],
 "metadata": {
  "interpreter": {
   "hash": "879949996246d6f64b8bd511679fffe61d03061274e4229ba66d0c2161646c82"
  },
  "kernelspec": {
   "display_name": "Python 3.9.5 64-bit",
   "language": "python",
   "name": "python3"
  },
  "language_info": {
   "codemirror_mode": {
    "name": "ipython",
    "version": 3
   },
   "file_extension": ".py",
   "mimetype": "text/x-python",
   "name": "python",
   "nbconvert_exporter": "python",
   "pygments_lexer": "ipython3",
   "version": "3.9.5"
  },
  "orig_nbformat": 4
 },
 "nbformat": 4,
 "nbformat_minor": 2
}
