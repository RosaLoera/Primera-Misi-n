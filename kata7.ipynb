{
 "cells": [
  {
   "cell_type": "markdown",
   "metadata": {},
   "source": [
    "## Creación de un bucle \"while\""
   ]
  },
  {
   "cell_type": "code",
   "execution_count": null,
   "metadata": {},
   "outputs": [],
   "source": [
    "new_planet = ''\n",
    "planets = []\n",
    "\n",
    "while new_planet.lower() != 'done':\n",
    "    if new_planet:\n",
    "        planets.append(new_planet)\n",
    "\n",
    "    new_planet = input('Ingrese el nombre de un planeta: ')\n",
    "\n",
    "\n",
    "\n",
    "#Ejercicio 2: Creación de un ciclo \"for\"\n",
    "\n",
    "for planet in planets:\n",
    "    print(planet)\n",
    "        "
   ]
  }
 ],
 "metadata": {
  "interpreter": {
   "hash": "879949996246d6f64b8bd511679fffe61d03061274e4229ba66d0c2161646c82"
  },
  "kernelspec": {
   "display_name": "Python 3.9.5 64-bit",
   "language": "python",
   "name": "python3"
  },
  "language_info": {
   "name": "python",
   "version": "3.9.5"
  },
  "orig_nbformat": 4
 },
 "nbformat": 4,
 "nbformat_minor": 2
}
