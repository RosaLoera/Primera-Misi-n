{
 "cells": [
  {
   "cell_type": "markdown",
   "metadata": {},
   "source": [
    "## Transformando cadenas"
   ]
  },
  {
   "cell_type": "code",
   "execution_count": null,
   "metadata": {},
   "outputs": [],
   "source": [
    "text = \"\"\"Interesting facts about the Moon. The Moon is Earth's only satellite. There are several interesting facts about the Moon and how it affects life here on Earth. \n",
    "On average, the Moon moves 4cm away from the Earth every year. This yearly drift is not significant enough to cause immediate effects on Earth. The highest daylight temperature of the Moon is 127 C.\"\"\"\n",
    "\n",
    "partes = text.split('. ')\n",
    "palabras = ['average', 'temperature', 'distance']\n",
    "\n",
    "for oracion in partes:\n",
    "    for palabra in palabras:\n",
    "        if palabra in oracion:\n",
    "            print(oracion.replace(' C', ' Celsius'))\n",
    "            break"
   ]
  },
  {
   "cell_type": "markdown",
   "metadata": {},
   "source": [
    "## Formateando cadenas"
   ]
  },
  {
   "cell_type": "code",
   "execution_count": 15,
   "metadata": {},
   "outputs": [
    {
     "name": "stdout",
     "output_type": "stream",
     "text": [
      "Datos De Gravedad De Moon\n",
      "--------------------------------------------------------------------------------\n",
      "Planeta: Earth\n",
      "Gravedad en Moon: 1.6199999999999999 m/s\n",
      "\n",
      "Datos de gravedad de Ganímedes\n",
      "------------------------------------------------\n",
      "Planeta: Marte \n",
      "Gravedad en Ganímedes: 1.4300000000000002 m/s\n",
      "\n"
     ]
    }
   ],
   "source": [
    "name = \"Moon\"\n",
    "gravity = 0.00162 # in kms\n",
    "planet = \"Earth\"\n",
    "\n",
    "titulo = f'Datos de gravedad de {name}'\n",
    "\n",
    "# plantilla\n",
    "datos = f\"\"\"{'-'*80}\n",
    "Planeta: {planet}\n",
    "Gravedad en {name}: {gravity * 1000} m/s\"\"\"\n",
    "\n",
    "union = f\"\"\"{titulo.title()}\n",
    "{datos}\"\"\"\n",
    "print(union)\n",
    "\n",
    "# otros datos de muestra\n",
    "planeta = 'Marte '\n",
    "gravedad  = 0.00143 *1000\n",
    "nombre = 'Ganímedes'\n",
    "\n",
    "otra_plantilla = \"\"\"\n",
    "Datos de gravedad de {nombre}\n",
    "------------------------------------------------\n",
    "Planeta: {planeta}\n",
    "Gravedad en {nombre}: {gravedad} m/s\n",
    "\"\"\"\n",
    "\n",
    "print(otra_plantilla.format(nombre = nombre, planeta = planeta, gravedad = gravedad))"
   ]
  }
 ],
 "metadata": {
  "interpreter": {
   "hash": "879949996246d6f64b8bd511679fffe61d03061274e4229ba66d0c2161646c82"
  },
  "kernelspec": {
   "display_name": "Python 3.9.5 64-bit",
   "language": "python",
   "name": "python3"
  },
  "language_info": {
   "codemirror_mode": {
    "name": "ipython",
    "version": 3
   },
   "file_extension": ".py",
   "mimetype": "text/x-python",
   "name": "python",
   "nbconvert_exporter": "python",
   "pygments_lexer": "ipython3",
   "version": "3.9.5"
  },
  "orig_nbformat": 4
 },
 "nbformat": 4,
 "nbformat_minor": 2
}
