{
 "cells": [
  {
   "cell_type": "markdown",
   "metadata": {},
   "source": [
    "## Escribir declaraciones if, else y elif"
   ]
  },
  {
   "cell_type": "code",
   "execution_count": null,
   "metadata": {},
   "outputs": [],
   "source": [
    "# Un asteroide se acerca, y viaja a una velocidad de 49 km/s.\n",
    "asteriode = 49\n",
    "\n",
    "if asteriode > 25:\n",
    "    print('ADVERTENCIA: Un asteroide se acerca a una velocidad de '+str(asteriode)+'km/s')\n",
    "else:\n",
    "    print('Ningún asteoride veloz cerca')"
   ]
  },
  {
   "cell_type": "code",
   "execution_count": null,
   "metadata": {},
   "outputs": [],
   "source": [
    "# Un asteroide se acerca a 19km/s\n",
    "asteriode = 19\n",
    "\n",
    "if asteriode > 20:\n",
    "    print('Hay un rayo visible en el cielo')\n",
    "elif asteriode == 20:\n",
    "    print('Hay un rayo visible en el cielo')\n",
    "else:\n",
    "    print('Solo nubes en el cielo')"
   ]
  },
  {
   "cell_type": "markdown",
   "metadata": {},
   "source": [
    "## Uso de operadores and y or"
   ]
  },
  {
   "cell_type": "code",
   "execution_count": null,
   "metadata": {},
   "outputs": [],
   "source": [
    "velocidad = 30\n",
    "tamaño = 40\n",
    "\n",
    "if velocidad > 25 and tamaño > 25:\n",
    "    print('ALERTA: Asteroide peligros en camino')\n",
    "elif velocidad >= 20:\n",
    "    print('Hay un rayo visible en el cielo')\n",
    "elif tamaño < 25:\n",
    "    print('Ningún asteroide peligroso en camino')\n",
    "else:\n",
    "    print('Solo nubes en el cielo')"
   ]
  }
 ],
 "metadata": {
  "interpreter": {
   "hash": "879949996246d6f64b8bd511679fffe61d03061274e4229ba66d0c2161646c82"
  },
  "kernelspec": {
   "display_name": "Python 3.9.5 64-bit",
   "language": "python",
   "name": "python3"
  },
  "language_info": {
   "codemirror_mode": {
    "name": "ipython",
    "version": 3
   },
   "file_extension": ".py",
   "mimetype": "text/x-python",
   "name": "python",
   "nbconvert_exporter": "python",
   "pygments_lexer": "ipython3",
   "version": "3.9.5"
  },
  "orig_nbformat": 4
 },
 "nbformat": 4,
 "nbformat_minor": 2
}
