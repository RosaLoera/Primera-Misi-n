{
 "cells": [
  {
   "cell_type": "markdown",
   "metadata": {},
   "source": [
    "## Uso de funciones en python"
   ]
  },
  {
   "cell_type": "code",
   "execution_count": null,
   "metadata": {},
   "outputs": [],
   "source": [
    "def tanques_combustible(tanque1, tanque2, tanque3):\n",
    "    return f\"\"\"Reporte de combustible:\n",
    "    Tanque 1: {tanque1}%\n",
    "    Tanque 2: {tanque2}%\n",
    "    Tanque 3: {tanque3}%\n",
    "    Combustible promedio: {promedio([tanque1, tanque2, tanque3])}%\n",
    "    \"\"\"\n",
    "\n",
    "def promedio(valores):\n",
    "    total = sum(valores)\n",
    "    datos = len(valores)\n",
    "    prom = total/datos\n",
    "    return prom\n",
    "    \n",
    "print(tanques_combustible(21, 74, 65))\n",
    "\n"
   ]
  },
  {
   "cell_type": "markdown",
   "metadata": {},
   "source": [
    "## Trabajo con argumentos de palabra clave"
   ]
  },
  {
   "cell_type": "code",
   "execution_count": 13,
   "metadata": {},
   "outputs": [
    {
     "name": "stdout",
     "output_type": "stream",
     "text": [
      "Informe preciso: \n",
      "    Tiempo de la misión: 69\n",
      "    Destino: Marte\n",
      "    Combustible total: 46260\n",
      "    Tanque interno ---> 45812 galones\n",
      "    Tanque externo ---> 448 galones\n",
      "    \n"
     ]
    }
   ],
   "source": [
    "def informe_mision(destino, *minutos, **reservas_combustible):\n",
    "    reporte = f\"\"\"Informe preciso: \n",
    "    Tiempo de la misión: {sum(minutos)}\n",
    "    Destino: {destino}\n",
    "    Combustible total: {sum(reservas_combustible.values())}\n",
    "    \"\"\"\n",
    "\n",
    "    for tanque, galones in reservas_combustible.items():\n",
    "        reporte += f'Tanque {tanque} ---> {galones} galones\\n    '\n",
    "\n",
    "    return reporte\n",
    "\n",
    "print(informe_mision('Marte', 15, 54, interno=45812, externo= 448))\n"
   ]
  }
 ],
 "metadata": {
  "interpreter": {
   "hash": "879949996246d6f64b8bd511679fffe61d03061274e4229ba66d0c2161646c82"
  },
  "kernelspec": {
   "display_name": "Python 3.9.5 64-bit",
   "language": "python",
   "name": "python3"
  },
  "language_info": {
   "codemirror_mode": {
    "name": "ipython",
    "version": 3
   },
   "file_extension": ".py",
   "mimetype": "text/x-python",
   "name": "python",
   "nbconvert_exporter": "python",
   "pygments_lexer": "ipython3",
   "version": "3.9.5"
  },
  "orig_nbformat": 4
 },
 "nbformat": 4,
 "nbformat_minor": 2
}
