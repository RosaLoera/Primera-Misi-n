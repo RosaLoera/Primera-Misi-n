{
 "cells": [
  {
   "cell_type": "markdown",
   "metadata": {},
   "source": [
    "## Utilizar operadores aritméticos"
   ]
  },
  {
   "cell_type": "code",
   "execution_count": null,
   "metadata": {},
   "outputs": [],
   "source": [
    "#Distancia entre Júpiter y la Tierra\n",
    "tierra = 149597870\n",
    "jupiter =778547200\n",
    "distancia = jupiter - tierra\n",
    "print(str(distancia)+' kilómetros')\n",
    "millas = distancia * 0.621\n",
    "print(str(millas)+' millas')"
   ]
  },
  {
   "cell_type": "markdown",
   "metadata": {},
   "source": [
    "## Convierte cadenas en números y usa valores absolutos"
   ]
  },
  {
   "cell_type": "code",
   "execution_count": null,
   "metadata": {},
   "outputs": [],
   "source": [
    "planeta1 = input('Inserte la distancia del sol del primer planeta: ')\n",
    "planeta2 = input('Inserte la idstancia del sol del segundo planeta: ')\n",
    "\n",
    "planeta1_int = int(planeta1)\n",
    "planeta2_int = int(planeta2)\n",
    "\n",
    "distancia = abs(planeta2_int - planeta1_int)\n",
    "print(str(abs(distancia))+' kilómetros')\n",
    "\n",
    "millas = distancia * 0.621\n",
    "print(str(abs(millas))+' millas')"
   ]
  }
 ],
 "metadata": {
  "interpreter": {
   "hash": "879949996246d6f64b8bd511679fffe61d03061274e4229ba66d0c2161646c82"
  },
  "kernelspec": {
   "display_name": "Python 3.9.5 64-bit",
   "language": "python",
   "name": "python3"
  },
  "language_info": {
   "codemirror_mode": {
    "name": "ipython",
    "version": 3
   },
   "file_extension": ".py",
   "mimetype": "text/x-python",
   "name": "python",
   "nbconvert_exporter": "python",
   "pygments_lexer": "ipython3",
   "version": "3.9.5"
  },
  "orig_nbformat": 4
 },
 "nbformat": 4,
 "nbformat_minor": 2
}
